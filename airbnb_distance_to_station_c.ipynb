{
 "cells": [
  {
   "cell_type": "code",
   "execution_count": null,
   "metadata": {},
   "outputs": [],
   "source": [
    "import warnings\n",
    "warnings.filterwarnings('ignore')\n",
    "\n",
    "import matplotlib.pyplot as plt\n",
    "from shapely.geometry import MultiPoint,Point, Polygon\n",
    "import osmnx as ox\n",
    "import shapely.wkt\n",
    "from descartes import PolygonPatch\n",
    "import geopandas as gpd\n",
    "import shapely\n",
    "import geojsonio\n",
    "import geojson\n",
    "import json\n",
    "import pandas as pd\n",
    "import numpy as np\n",
    "import osmapi as osm\n",
    "from shapely.ops import nearest_points\n",
    "import networkx as nx\n",
    "\n",
    "from pandana.loaders import osm \n"
   ]
  },
  {
   "cell_type": "code",
   "execution_count": null,
   "metadata": {},
   "outputs": [],
   "source": [
    "airbnb = pd.read_csv(\"airbnb2.csv\") # import airbnb dataset"
   ]
  },
  {
   "cell_type": "markdown",
   "metadata": {},
   "source": [
    "# Public transport stations"
   ]
  },
  {
   "cell_type": "code",
   "execution_count": null,
   "metadata": {},
   "outputs": [],
   "source": [
    "# First we need to extract the right data"
   ]
  },
  {
   "cell_type": "code",
   "execution_count": null,
   "metadata": {},
   "outputs": [],
   "source": [
    "with open('stops.json', encoding='utf-8') as fh: # open the file\n",
    "    data = json.load(fh)"
   ]
  },
  {
   "cell_type": "code",
   "execution_count": null,
   "metadata": {},
   "outputs": [],
   "source": [
    "data.keys()"
   ]
  },
  {
   "cell_type": "code",
   "execution_count": null,
   "metadata": {},
   "outputs": [],
   "source": [
    "gdf = gpd.GeoDataFrame(data) # we will recieve a geopandas data frame"
   ]
  },
  {
   "cell_type": "code",
   "execution_count": null,
   "metadata": {},
   "outputs": [],
   "source": [
    "a = dict(gdf[\"stopGroups\"]) # we need only data from \"stopGroups\""
   ]
  },
  {
   "cell_type": "code",
   "execution_count": null,
   "metadata": {},
   "outputs": [],
   "source": [
    "stations = gpd.GeoDataFrame(a) # from dict to geodataframe"
   ]
  },
  {
   "cell_type": "code",
   "execution_count": null,
   "metadata": {},
   "outputs": [],
   "source": [
    "stations = stations.T # need to be transpose"
   ]
  },
  {
   "cell_type": "code",
   "execution_count": null,
   "metadata": {},
   "outputs": [],
   "source": [
    "stations[\"coordinates\"] = list(zip(stations.avgLon, stations.avgLat)) # shapely input has to be in order (long,lat)"
   ]
  },
  {
   "cell_type": "code",
   "execution_count": null,
   "metadata": {},
   "outputs": [],
   "source": [
    "stations[\"coordinates\"] = stations[\"coordinates\"].apply(Point) # make all of the tuples POINT, for purpose of using \n",
    "# shapely package"
   ]
  },
  {
   "cell_type": "code",
   "execution_count": null,
   "metadata": {},
   "outputs": [],
   "source": [
    "stations_Prague = stations[stations[\"municipality\"] == \"Praha\"] # 1408 stations"
   ]
  },
  {
   "cell_type": "code",
   "execution_count": null,
   "metadata": {},
   "outputs": [],
   "source": [
    "stations_Prague[\"cis\"].unique() # cis refers to the unique value of the station"
   ]
  },
  {
   "cell_type": "markdown",
   "metadata": {},
   "source": [
    "# Euclidean distance to 5 nearest stations"
   ]
  },
  {
   "cell_type": "code",
   "execution_count": null,
   "metadata": {},
   "outputs": [],
   "source": [
    "# As coordinations are not saved as shapely.geometry object in csv, we must convert them to this type\n",
    "\n",
    "# Note: Shapely geometry requires GPS in format (long, lat)\n",
    "\n",
    "airbnb[\"coordinates\"]  = airbnb[\"coordinates\"].apply(shapely.wkt.loads)\n",
    "\n",
    "# Make MultiPoint from all stations in Prague, so we can measure distance from one Point to all others\n",
    "gps_stations = list(stations_Prague.coordinates)\n",
    "all_stations = MultiPoint(gps_stations) # Multipoint of all public transport stations"
   ]
  },
  {
   "cell_type": "code",
   "execution_count": null,
   "metadata": {},
   "outputs": [],
   "source": [
    "%%time\n",
    "# First we compute the 5 nearest station for each airbnb listing (by euclidean distance with shapely geometry)\n",
    "euclidean_stations = []\n",
    "for point in airbnb[\"coordinates\"]:\n",
    "    destinations = all_stations\n",
    "   \n",
    "    nearest_geoms1 = nearest_points(point, destinations)\n",
    "    \n",
    "    destinations = destinations - nearest_geoms1[1]\n",
    "    nearest_geoms2 = nearest_points(point, destinations)\n",
    "    \n",
    "    destinations = destinations - nearest_geoms2[1]\n",
    "    nearest_geoms3 = nearest_points(point, destinations)\n",
    "    \n",
    "    destinations = destinations - nearest_geoms3[1]\n",
    "    nearest_geoms4 = nearest_points(point, destinations)\n",
    "    \n",
    "    destinations = destinations - nearest_geoms4[1]\n",
    "    nearest_geoms5 = nearest_points(point, destinations)\n",
    "    \n",
    "    euclidean_stations.append([nearest_geoms1[1],nearest_geoms2[1],nearest_geoms3[1],nearest_geoms4[1],nearest_geoms5[1]])"
   ]
  },
  {
   "cell_type": "code",
   "execution_count": null,
   "metadata": {
    "scrolled": true
   },
   "outputs": [],
   "source": [
    "col1 = []\n",
    "col2 = []\n",
    "col3 = []\n",
    "col4 = []\n",
    "col5 = []\n",
    "\n",
    "for x in euclidean_stations:\n",
    "    for k in range(len(x)):\n",
    "        if k == 0:\n",
    "            col1.append(x[k])\n",
    "        elif k == 1:\n",
    "            col2.append(x[k])\n",
    "        elif k == 2:\n",
    "            col3.append(x[k])\n",
    "        elif k == 3:\n",
    "            col4.append(x[k])\n",
    "        elif k == 4:\n",
    "            col5.append(x[k])"
   ]
  },
  {
   "cell_type": "code",
   "execution_count": null,
   "metadata": {},
   "outputs": [],
   "source": [
    "airbnb[\"col1\"],airbnb[\"col2\"],airbnb[\"col3\"],airbnb[\"col4\"],airbnb[\"col5\"] = col1, col2, col3, col4,col5"
   ]
  },
  {
   "cell_type": "code",
   "execution_count": null,
   "metadata": {},
   "outputs": [],
   "source": [
    "airbnb[[\"col1\", \"col2\",\"col3\",\"col4\",\"col5\"]] = airbnb[[\"col1\", \"col2\",\"col3\",\"col4\",\"col5\"]].astype(str)"
   ]
  },
  {
   "cell_type": "code",
   "execution_count": null,
   "metadata": {},
   "outputs": [],
   "source": [
    "airbnb[[\"col1\", \"col2\",\"col3\",\"col4\",\"col5\"]] = airbnb[[\"col1\", \"col2\",\"col3\",\"col4\",\"col5\"]].replace({\"POINT \": \"\"}, regex = True)"
   ]
  },
  {
   "cell_type": "code",
   "execution_count": null,
   "metadata": {},
   "outputs": [],
   "source": [
    "airbnb[[\"col1\", \"col2\",\"col3\",\"col4\",\"col5\"]] = airbnb[[\"col1\", \"col2\",\"col3\",\"col4\",\"col5\"]].replace({\" \": \",\"}, regex = True).replace({\"\\(\": \"\"}, regex = True).replace({\"\\)\": \"\"}, regex = True)"
   ]
  },
  {
   "cell_type": "code",
   "execution_count": null,
   "metadata": {},
   "outputs": [],
   "source": [
    "airbnb[['col1x','col1y']] = (airbnb.col1.str.split(\",\",expand=True)).astype(float)\n",
    "airbnb[['col2x','col2y']] = (airbnb.col2.str.split(\",\",expand=True)).astype(float)\n",
    "airbnb[['col3x','col3y']] = (airbnb.col3.str.split(\",\",expand=True)).astype(float)\n",
    "airbnb[['col4x','col4y']] = (airbnb.col4.str.split(\",\",expand=True)).astype(float)\n",
    "airbnb[['col5x','col5y']] = (airbnb.col5.str.split(\",\",expand=True)).astype(float)"
   ]
  },
  {
   "cell_type": "markdown",
   "metadata": {},
   "source": [
    "# Walking distance with network of streets"
   ]
  },
  {
   "cell_type": "code",
   "execution_count": null,
   "metadata": {},
   "outputs": [],
   "source": [
    "# Inspired by https://github.com/smmaurer/cp255"
   ]
  },
  {
   "cell_type": "code",
   "execution_count": null,
   "metadata": {},
   "outputs": [],
   "source": [
    "%%time\n",
    "G = ox.graph_from_place(\"Prague\",network_type = \"walk\")\n",
    "fig, ax = ox.plot_graph(ox.project_graph(G))\n",
    "fig.show()"
   ]
  },
  {
   "cell_type": "code",
   "execution_count": null,
   "metadata": {},
   "outputs": [],
   "source": [
    "# Original Airbnb points"
   ]
  },
  {
   "cell_type": "code",
   "execution_count": null,
   "metadata": {},
   "outputs": [],
   "source": [
    "# !!! Note: ox.get_nearest_node accept the coordinates in format (lat,long), which is different form shapely package (long,lat)\n",
    "# Find the nearest node for each Airbnb GPS\n",
    "%%time\n",
    "def nearest_node(row):\n",
    "    return ox.get_nearest_node(G, (row.latitude, row.longitude))\n",
    "\n",
    "airbnb['air_nodes_true'] = airbnb.apply(nearest_node, axis=1) "
   ]
  },
  {
   "cell_type": "code",
   "execution_count": null,
   "metadata": {},
   "outputs": [],
   "source": [
    "# Define function for each of the 5 nearest nodes\n",
    "# Here, y represents latitude, and x longitude\n",
    "\n",
    "def nearest_node1(row):\n",
    "    return ox.get_nearest_node(G, (row.col1y, row.col1x))\n",
    "\n",
    "def nearest_node2(row):\n",
    "    return ox.get_nearest_node(G, (row.col2y, row.col2x))\n",
    "\n",
    "def nearest_node3(row):\n",
    "    return ox.get_nearest_node(G, (row.col3y, row.col3x))\n",
    "\n",
    "def nearest_node4(row):\n",
    "    return ox.get_nearest_node(G, (row.col4y, row.col4x))\n",
    "\n",
    "def nearest_node5(row):\n",
    "    return ox.get_nearest_node(G, (row.col5y, row.col5x))\n"
   ]
  },
  {
   "cell_type": "code",
   "execution_count": null,
   "metadata": {},
   "outputs": [],
   "source": [
    "%%time\n",
    "airbnb['col1_nodes_true'] = airbnb.apply(nearest_node1, axis=1)\n",
    "airbnb['col2_nodes_true'] = airbnb.apply(nearest_node2, axis=1)\n",
    "airbnb['col3_nodes_true'] = airbnb.apply(nearest_node3, axis=1)\n",
    "airbnb['col4_nodes_true'] = airbnb.apply(nearest_node4, axis=1)\n",
    "airbnb['col5_nodes_true'] = airbnb.apply(nearest_node5, axis=1)"
   ]
  },
  {
   "cell_type": "code",
   "execution_count": null,
   "metadata": {},
   "outputs": [],
   "source": [
    "# First initilize list with true nodes 5 times\n",
    "airbnb_nodes = []\n",
    "ids =  []\n",
    "k = 0\n",
    "for k in range(5):\n",
    "    for o in airbnb.air_nodes_true:\n",
    "        airbnb_nodes.append(o)\n",
    "        k = k+1\n",
    "\n",
    "# Then also for ids (to leave the room id for each node) \n",
    "ids =  []\n",
    "for k in range(5):\n",
    "    for o in airbnb.id:\n",
    "        ids.append(o)\n",
    "    k = k+1"
   ]
  },
  {
   "cell_type": "code",
   "execution_count": null,
   "metadata": {},
   "outputs": [],
   "source": [
    "df_dist_station = pd.DataFrame({'airbnb_nodes': airbnb_nodes, 'id': ids})"
   ]
  },
  {
   "cell_type": "code",
   "execution_count": null,
   "metadata": {},
   "outputs": [],
   "source": [
    "# Append together all 5 nearest stations (nodes)\n",
    "new_df = airbnb.col1_nodes_true # initiate\n",
    "\n",
    "new_df= new_df.append([airbnb.col2_nodes_true,airbnb.col3_nodes_true,airbnb.col4_nodes_true,airbnb.col5_nodes_true]) # append all \n",
    "\n",
    "new_df = list(new_df)"
   ]
  },
  {
   "cell_type": "code",
   "execution_count": null,
   "metadata": {},
   "outputs": [],
   "source": [
    "df_dist_station[\"nearest_station_nodes\"] = new_df"
   ]
  },
  {
   "cell_type": "code",
   "execution_count": null,
   "metadata": {},
   "outputs": [],
   "source": [
    "# Find the shortest path\n",
    "%%time\n",
    "def distance(row):\n",
    "    return nx.shortest_path_length(G, source=row.airbnb_nodes, target=row.nearest_station_nodes, weight='length')\n",
    "\n",
    "df_dist_station['distance_to_station'] = df_dist_station.apply(distance, axis=1)"
   ]
  },
  {
   "cell_type": "code",
   "execution_count": null,
   "metadata": {
    "scrolled": true
   },
   "outputs": [],
   "source": [
    "# Drop duplicates, so we get only the nearest one\n",
    "df_dist_station = df_dist_station.sort_values(by = [\"id\", \"distance_to_station\"]).drop_duplicates(subset = ['airbnb_nodes', \"id\"])"
   ]
  },
  {
   "cell_type": "code",
   "execution_count": null,
   "metadata": {},
   "outputs": [],
   "source": [
    "airbnb = pd.merge(airbnb, df_dist_station, on = \"id\")"
   ]
  },
  {
   "cell_type": "code",
   "execution_count": null,
   "metadata": {},
   "outputs": [],
   "source": [
    "columns_to_drop = ['Unnamed: 0','Unnamed: 0.1','col1_nodes','col2_nodes','col3_nodes', 'col4_nodes', 'col5_nodes', 'airbnb_nodes_x',\n",
    "                   'airbnb_nodes_y',\n",
    "                  'col1_nodes_true','col2_nodes_true','col3_nodes_true','col4_nodes_true','col5_nodes_true',\n",
    "                  'col1x','col1y','col2x','col2y','col3x','col3y','col4x','col4y','col5x','col5y',\n",
    "                  'col1','col2','col3','col4','col5',\n",
    "                  'nearest_station_nodes','distance']"
   ]
  },
  {
   "cell_type": "code",
   "execution_count": null,
   "metadata": {},
   "outputs": [],
   "source": [
    "airbnb = airbnb.drop(columns_to_drop, axis = 1)"
   ]
  },
  {
   "cell_type": "code",
   "execution_count": null,
   "metadata": {},
   "outputs": [],
   "source": [
    "airbnb.to_csv(\"airbnb3.csv\")"
   ]
  }
 ],
 "metadata": {
  "kernelspec": {
   "display_name": "Python 3",
   "language": "python",
   "name": "python3"
  },
  "language_info": {
   "codemirror_mode": {
    "name": "ipython",
    "version": 3
   },
   "file_extension": ".py",
   "mimetype": "text/x-python",
   "name": "python",
   "nbconvert_exporter": "python",
   "pygments_lexer": "ipython3",
   "version": "3.7.7"
  }
 },
 "nbformat": 4,
 "nbformat_minor": 4
}
