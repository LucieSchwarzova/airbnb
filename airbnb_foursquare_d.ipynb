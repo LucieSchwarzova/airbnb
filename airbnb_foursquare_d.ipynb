{
 "cells": [
  {
   "cell_type": "code",
   "execution_count": null,
   "metadata": {},
   "outputs": [],
   "source": [
    "import warnings\n",
    "warnings.filterwarnings('ignore')\n",
    "\n",
    "import matplotlib.pyplot as plt\n",
    "from shapely.geometry import MultiPoint,Point, Polygon\n",
    "import pandana\n",
    "import osmnx as ox\n",
    "import shapely.wkt\n",
    "from descartes import PolygonPatch\n",
    "import geopandas as gpd\n",
    "import shapely\n",
    "import geojsonio\n",
    "import geojson\n",
    "import json\n",
    "import pandas as pd\n",
    "import numpy as np\n",
    "import osmapi as osm\n",
    "import requests\n",
    "\n",
    "import networkx as nx\n",
    "\n",
    "from pandana.loaders import osm"
   ]
  },
  {
   "cell_type": "code",
   "execution_count": null,
   "metadata": {},
   "outputs": [],
   "source": [
    "airbnb = pd.read_csv(\"airbnb3.csv\")"
   ]
  },
  {
   "cell_type": "code",
   "execution_count": null,
   "metadata": {},
   "outputs": [],
   "source": [
    "# Define Foursquare Credentials \n",
    "\n",
    "# CLIENT_ID = # client ID\n",
    "# CLIENT_SECRET =  # client secret\n",
    "VERSION = '20190629'\n",
    "LIMIT = 5"
   ]
  },
  {
   "cell_type": "code",
   "execution_count": null,
   "metadata": {},
   "outputs": [],
   "source": [
    "# Function inspired by Graciela Carrillo\n",
    "\n",
    "def getNearbyVenues(names, latitudes, longitudes, radius, categoryId):\n",
    "    venues_list=[]\n",
    "    \n",
    "    for name, lat, lng in zip(names, latitudes, longitudes):\n",
    "        print(name,lat,lng)\n",
    "\n",
    "        # create the API request URL\n",
    "        url = 'https://api.foursquare.com/v2/venues/explore?&client_id={}&client_secret={}&v={}&ll={},{}&radius={}&limit={}&categoryId={}&sortByDistance=1'.format(\n",
    "            CLIENT_ID, # in the url, we specify ByDistance=1, which means the results will be sorted according to geometry distance\n",
    "            CLIENT_SECRET, \n",
    "            VERSION, \n",
    "            lat, \n",
    "            lng, \n",
    "            radius, \n",
    "            LIMIT,\n",
    "            categoryId)\n",
    "        \n",
    "        # make the GET request\n",
    "        results = requests.get(url).json()[\"response\"][\"groups\"][0][\"items\"]\n",
    "       \n",
    "         # return only relevant information for each nearby venue\n",
    "        venues_list.append([(\n",
    "            name, \n",
    "            lat, \n",
    "            lng, \n",
    "            v[\"venue\"][\"name\"],\n",
    "            v[\"venue\"][\"location\"][\"lat\"],\n",
    "            v[\"venue\"][\"location\"][\"lng\"],\n",
    "            v[\"venue\"][\"location\"][\"distance\"],\n",
    "            v[\"venue\"][\"categories\"][0][\"name\"]) for v in results])\n",
    "    \n",
    "    nearby_venues = pd.DataFrame([item for venue_list in venues_list for item in venue_list])\n",
    "    nearby_venues.columns = ['Id', \n",
    "                  'Room_Latitude', \n",
    "                  'Room_Longitude', \n",
    "                  'Venue', \n",
    "                  'Venue_Latitude', \n",
    "                  'Venue_Longitude',\n",
    "                  'distance',\n",
    "                  'Venue_Category']\n",
    "    \n",
    "    return(nearby_venues)"
   ]
  },
  {
   "cell_type": "markdown",
   "metadata": {},
   "source": [
    "Venues we want to consider: \n",
    "#### Grocery store/Supermarket\n",
    "Codes: 4bf58dd8d48988d118951735, 52f2ab2ebcbc57f1066b8b46\n",
    "#### Restaurant - Food category (all different types of restaurants)\n",
    "Code: 4d4b7105d754a06374d81259\n",
    "#### Parks\n",
    "Code: 4bf58dd8d48988d163941735\n",
    "\n",
    "\n",
    "Source:https://developer.foursquare.com/docs/build-with-foursquare/categories"
   ]
  },
  {
   "cell_type": "markdown",
   "metadata": {},
   "source": [
    "# Restaurants"
   ]
  },
  {
   "cell_type": "code",
   "execution_count": null,
   "metadata": {},
   "outputs": [],
   "source": [
    "%%time\n",
    "# Define the range for smoother and faster retrieving of data\n",
    "# Run this code several times to get all the data\n",
    "# airbnb1 = airbnb[a:b]\n",
    "i = 0\n",
    "restaurants1 = pd.DataFrame()\n",
    "for k in range(10,len(airbnb1),10):\n",
    "    dataset = pd.DataFrame(airbnb1[i:k])\n",
    "    restaurants = getNearbyVenues(names=dataset['id'],\n",
    "                                       latitudes=dataset['latitude'],\n",
    "                                       longitudes=dataset['longitude'],\n",
    "                                     radius = 500,\n",
    "                                    categoryId = \"4d4b7105d754a06374d81259\" # food \n",
    "                                      )\n",
    "    restaurants1 = restaurants1.append(restaurants)\n",
    "    i = i+10   \n",
    "    \n",
    "restaurants_2_1 = restaurants_2_1.append(restaurants1)"
   ]
  },
  {
   "cell_type": "code",
   "execution_count": null,
   "metadata": {},
   "outputs": [],
   "source": [
    "# Checking if all listings are in the restaurant dataset\n",
    "listis_x = []\n",
    "for x in df.id:\n",
    "    if x not in list(restaurants_2_1.Id):\n",
    "        print(x)\n",
    "        listis_x.append(x)\n",
    "\n",
    "edge_listings = pd.DataFrame()\n",
    "for x in listis_x:\n",
    "    y = pd.DataFrame(airbnb.loc[airbnb.id == x])\n",
    "    edge_listings = edge_listings.append(y)"
   ]
  },
  {
   "cell_type": "code",
   "execution_count": null,
   "metadata": {},
   "outputs": [],
   "source": [
    "# As no restaurants are in the radius of 500 for the edge listings, we will consider radius of 1000m\n",
    "airbnb1 = edge_listings \n",
    "i = 0\n",
    "restaurants1 = pd.DataFrame()\n",
    "restaurants = getNearbyVenues(names=airbnb1['id'],\n",
    "                                   latitudes=airbnb1['latitude'],\n",
    "                                   longitudes=airbnb1['longitude'],\n",
    "                                    radius = 1000,\n",
    "                                    categoryId = \"4d4b7105d754a06374d81259\" # food \n",
    "                                  )\n",
    "restaurants1 = restaurants1.append(restaurants) \n",
    "    \n",
    "restaurants_2_1 = restaurants_2_1.append(restaurants1)"
   ]
  },
  {
   "cell_type": "code",
   "execution_count": null,
   "metadata": {
    "scrolled": true
   },
   "outputs": [],
   "source": [
    "# Again, check if all listing have some restaurants in 1000m\n",
    "listis_y = []\n",
    "for x in df.id:\n",
    "    if x not in list(restaurants_2_1.Id):\n",
    "        print(x)\n",
    "        listis_y.append(x)\n",
    "\n",
    "edge_listings2 = pd.DataFrame()\n",
    "for x in listis_y:\n",
    "    y = pd.DataFrame(airbnb.loc[airbnb.id == x])\n",
    "    edge_listings2 = edge_listings2.append(y)"
   ]
  },
  {
   "cell_type": "code",
   "execution_count": null,
   "metadata": {},
   "outputs": [],
   "source": [
    "# As no restaurants are in the radius of 1000 for some listings, we will consider radius of 1500m\n",
    "airbnb1 = edge_listings2\n",
    "\n",
    "restaurants1 = pd.DataFrame()\n",
    "restaurants = getNearbyVenues(names=airbnb1['id'],\n",
    "                                   latitudes=airbnb1['latitude'],\n",
    "                                   longitudes=airbnb1['longitude'],\n",
    "                                   radius = 1500,\n",
    "                                   categoryId = \"4d4b7105d754a06374d81259\" # food \n",
    "                                  )\n",
    "restaurants1 = restaurants1.append(restaurants) \n",
    "    \n",
    "restaurants_2_1 = restaurants_2_1.append(restaurants1)"
   ]
  },
  {
   "cell_type": "code",
   "execution_count": null,
   "metadata": {},
   "outputs": [],
   "source": [
    "restaurants_2_1 = restaurants_2_1.drop_duplicates()"
   ]
  },
  {
   "cell_type": "code",
   "execution_count": null,
   "metadata": {},
   "outputs": [],
   "source": [
    "restaurants_2_1.to_csv(\"restaurants_all.csv\")"
   ]
  },
  {
   "cell_type": "code",
   "execution_count": null,
   "metadata": {},
   "outputs": [],
   "source": [
    "# In this stage, we have for each listing, 5 nearest  RECOMMENDED restaurants by geometry distance\n",
    "# Note: For some listings, its smaller number of restaurants, as we specify radius of 500m in the first step"
   ]
  },
  {
   "cell_type": "code",
   "execution_count": null,
   "metadata": {},
   "outputs": [],
   "source": [
    "# Now, we define the network of streets, convert latitude and longitude to nodes representation, so we can \n",
    "# compute the walking distance with NetworkX package"
   ]
  },
  {
   "cell_type": "markdown",
   "metadata": {},
   "source": [
    "## Walking distance to restaurant"
   ]
  },
  {
   "cell_type": "code",
   "execution_count": null,
   "metadata": {},
   "outputs": [],
   "source": [
    "restaurant_clean = pd.read_csv(\"restaurants_all.csv\")"
   ]
  },
  {
   "cell_type": "code",
   "execution_count": null,
   "metadata": {},
   "outputs": [],
   "source": [
    "# First we will drop some categories, that does not represent restaurants, this is very subjective\n",
    "restaurant_clean = restaurant_clean.drop(restaurant_clean[(restaurant_clean.Venue_Category == \"Bagel Shop\")|\n",
    "                                                     (restaurant_clean.Venue_Category ==\"Bakery\")|\n",
    "                                                     (restaurant_clean.Venue_Category == \"Buffet\")|\n",
    "                                                     (restaurant_clean.Venue_Category == \"Cafeteria\")|\n",
    "                                                     (restaurant_clean.Venue_Category == \"Café\")|\n",
    "                                                     (restaurant_clean.Venue_Category == \"Donut Shop\")|\n",
    "                                                     (restaurant_clean.Venue_Category == \"Fast Food Restaurant\")|\n",
    "                                                     (restaurant_clean.Venue_Category == \"Food Truck\")|\n",
    "                                                     (restaurant_clean.Venue_Category == \"Food Stand\")|\n",
    "                                                     (restaurant_clean.Venue_Category == \"Hot Dog Joint\")|\n",
    "                                                     (restaurant_clean.Venue_Category == \"Pet Café\")|\n",
    "                                                     (restaurant_clean.Venue_Category == \"Snack Place\")].index)"
   ]
  },
  {
   "cell_type": "code",
   "execution_count": null,
   "metadata": {
    "scrolled": true
   },
   "outputs": [],
   "source": [
    "lis = []\n",
    "for x in list(airbnb.id):\n",
    "    if x not in list(restaurant_clean.Id):\n",
    "        lis.append(x)\n",
    "        \n",
    "print(len(lis))\n",
    "\n",
    "new_restaurants = pd.DataFrame()\n",
    "for x in lis:\n",
    "    y = pd.DataFrame(airbnb.loc[airbnb.id == x])\n",
    "    new_restaurants = new_restaurants.append(y)"
   ]
  },
  {
   "cell_type": "code",
   "execution_count": null,
   "metadata": {},
   "outputs": [],
   "source": [
    "# For such listing (45 of them), we will find restaurants in 1500m, instead of 500, and we set the limit on 10, othewise\n",
    "# same results would be retrieved\n",
    "LIMIT = 10\n",
    "airbnb1 = new_restaurants\n",
    "i = 0\n",
    "restaurants_1500 = pd.DataFrame()\n",
    "restaurants = getNearbyVenues(names=airbnb1['id'],\n",
    "                                   latitudes=airbnb1['latitude'],\n",
    "                                   longitudes=airbnb1['longitude'],\n",
    "                                    radius = 1500,\n",
    "                                    categoryId = \"4d4b7105d754a06374d81259\" # food \n",
    "                                  )\n",
    "restaurants_1500 = restaurants_1500.append(restaurants) "
   ]
  },
  {
   "cell_type": "code",
   "execution_count": null,
   "metadata": {},
   "outputs": [],
   "source": [
    "# Again, we dropp all the categories that we want\n",
    "restaurants_1500 = restaurants_1500.drop(restaurants_1500[(restaurants_1500.Venue_Category == \"Bagel Shop\")|\n",
    "                                                     (restaurants_1500.Venue_Category ==\"Bakery\")|\n",
    "                                                     (restaurants_1500.Venue_Category == \"Buffet\")|\n",
    "                                                     (restaurants_1500.Venue_Category == \"Cafeteria\")|\n",
    "                                                     (restaurants_1500.Venue_Category == \"Café\")|\n",
    "                                                     (restaurants_1500.Venue_Category == \"Donut Shop\")|\n",
    "                                                     (restaurants_1500.Venue_Category == \"Fast Food Restaurant\")|\n",
    "                                                     (restaurants_1500.Venue_Category == \"Food Truck\")|\n",
    "                                                     (restaurants_1500.Venue_Category == \"Food Stand\")|\n",
    "                                                     (restaurants_1500.Venue_Category == \"Hot Dog Joint\")|\n",
    "                                                     (restaurants_1500.Venue_Category == \"Pet Café\")|\n",
    "                                                     (restaurants_1500.Venue_Category == \"Snack Place\")].index)"
   ]
  },
  {
   "cell_type": "code",
   "execution_count": null,
   "metadata": {},
   "outputs": [],
   "source": [
    "restaurant_clean = restaurant_clean.append(restaurants_1500)"
   ]
  },
  {
   "cell_type": "code",
   "execution_count": null,
   "metadata": {},
   "outputs": [],
   "source": [
    "lis2 = []\n",
    "for x in list(airbnb.id):\n",
    "    if x not in list(restaurant_clean.Id):\n",
    "        lis2.append(x)\n",
    "        \n",
    "len(lis2) # all listings has information about restaurant nearby"
   ]
  },
  {
   "cell_type": "code",
   "execution_count": null,
   "metadata": {},
   "outputs": [],
   "source": [
    "%%time\n",
    "# Define the network of streets in Prague\n",
    "# prague = osmnx.graph.graph_from_bbox(49.941901,14.224435,50.17743,14.706787)\n",
    "G = ox.graph_from_place(\"Prague\", network_type = \"walk\")\n",
    "fig, ax = ox.plot_graph(ox.project_graph(G))\n",
    "fig.show()"
   ]
  },
  {
   "cell_type": "code",
   "execution_count": null,
   "metadata": {},
   "outputs": [],
   "source": [
    "%%time\n",
    "# Note ox.get_nearest_node accept the coordinates in formate (lat,long), which is different form shapely package (long,lat)\n",
    "# Apply function nearest_node to find nearest node to each GPS coordinates for restaurants\n",
    "\n",
    "def nearest_node(row):\n",
    "    return ox.get_nearest_node(G, (row.Venue_Latitude, row.Venue_Longitude))\n",
    "\n",
    "restaurant_clean['restaurants_nodes1'] = restaurant_clean.apply(nearest_node, axis=1) "
   ]
  },
  {
   "cell_type": "code",
   "execution_count": null,
   "metadata": {},
   "outputs": [],
   "source": [
    "# Map Airbnb nodes from original dataset\n",
    "\n",
    "d_airbnb_nodes = {}\n",
    "for i, node in zip(airbnb.id, airbnb.air_nodes_true):\n",
    "    d_airbnb_nodes[i] = node\n",
    "\n",
    "restaurant_clean[\"airbnb_node\"] = restaurant_clean[\"Id\"] # Initiate column where we will map airbnb node\n",
    "\n",
    "restaurant_clean.airbnb_node = restaurant_clean.airbnb_node.map(d_airbnb_nodes) # Map airbnb nodes"
   ]
  },
  {
   "cell_type": "code",
   "execution_count": null,
   "metadata": {
    "scrolled": true
   },
   "outputs": [],
   "source": [
    "# count the distances\n",
    "def distance(row):\n",
    "    return nx.shortest_path_length(G, source=row.airbnb_node, target=row.restaurants_nodes1, weight='length')\n",
    "\n",
    "restaurant_clean['distance_to_restaurant'] = restaurant_clean.apply(distance, axis=1)"
   ]
  },
  {
   "cell_type": "code",
   "execution_count": null,
   "metadata": {},
   "outputs": [],
   "source": [
    "# Sort, so we get the shortest distance for each listing\n",
    "restaurant_clean_final = restaurant_clean.sort_values(by = [\"Id\", \"distance_to_restaurant\"]).drop_duplicates(subset = ['airbnb_node', \"Id\"])"
   ]
  },
  {
   "cell_type": "code",
   "execution_count": null,
   "metadata": {},
   "outputs": [],
   "source": [
    "# Rename, so we can merge it with original dataset\n",
    "restaurant_clean_final = restaurant_clean_final.rename(columns={'Id': 'id'})"
   ]
  },
  {
   "cell_type": "code",
   "execution_count": null,
   "metadata": {},
   "outputs": [],
   "source": [
    "airbnb = pd.merge(airbnb, restaurant_clean_final, on = \"id\", how = \"outer\")"
   ]
  },
  {
   "cell_type": "code",
   "execution_count": null,
   "metadata": {},
   "outputs": [],
   "source": [
    "# Drop unnecessary columns\n",
    "airbnb = airbnb.drop([\"Unnamed: 0_x\", \"Unnamed: 0.1\",\"Unnamed: 0_y\"],axis = 1)\n",
    "to_drop = [\"Room_Latitude\",\"Room_Longitude\", \"Venue\", \"Venue_Latitude\", \"Venue_Longitude\", \"Venue_Category\"]\n",
    "airbnb = airbnb.drop(to_drop, axis = 1)"
   ]
  },
  {
   "cell_type": "code",
   "execution_count": null,
   "metadata": {},
   "outputs": [],
   "source": [
    "airbnb = airbnb.rename(columns={'distance': 'geometry_distance_to_restaurant'})\n",
    "airbnb.loc[airbnb['geometry_distance_to_restaurant'] >= 1000, \"geometry_distance_to_restaurant\"] = 1000"
   ]
  },
  {
   "cell_type": "code",
   "execution_count": null,
   "metadata": {},
   "outputs": [],
   "source": [
    "# We will set the highest distance to 1000m for all listing\n",
    "airbnb.loc[airbnb['distance_to_restaurant'] >= 1000, \"distance_to_restaurant\"] = 1000"
   ]
  },
  {
   "cell_type": "markdown",
   "metadata": {},
   "source": [
    "# Grocery Stores"
   ]
  },
  {
   "cell_type": "markdown",
   "metadata": {},
   "source": [
    "Grocery store/Supermarket\n",
    "Codes: 4bf58dd8d48988d118951735, 52f2ab2ebcbc57f1066b8b46"
   ]
  },
  {
   "cell_type": "code",
   "execution_count": null,
   "metadata": {},
   "outputs": [],
   "source": [
    "supermarket1 = pd.DataFrame()"
   ]
  },
  {
   "cell_type": "code",
   "execution_count": null,
   "metadata": {},
   "outputs": [],
   "source": [
    "%%time\n",
    "\n",
    "# Define the range for smoother and faster retrieving of data\n",
    "# Run this code several times to get all the data\n",
    "\n",
    "# airbnb1 = airbnb[a:b]\n",
    "i = 0\n",
    "supermarket1 = pd.DataFrame()\n",
    "for k in range(10,len(airbnb1),10):\n",
    "    dataset = pd.DataFrame(airbnb1[i:k])\n",
    "    supermarket = getNearbyVenues(names=dataset['id'],\n",
    "                                       latitudes=dataset['latitude'],\n",
    "                                       longitudes=dataset['longitude'],\n",
    "                                       radius = 500,\n",
    "                                       categoryId = \"4bf58dd8d48988d118951735,52f2ab2ebcbc57f1066b8b46\" # grocery store, supermarket \n",
    "                                      )\n",
    "    supermarket1 = supermarket1.append(supermarket)\n",
    "    i = i+10   \n",
    "    \n",
    "supermarkets_2_1 = supermarkets_2_1.append(supermarket1)"
   ]
  },
  {
   "cell_type": "code",
   "execution_count": null,
   "metadata": {},
   "outputs": [],
   "source": [
    "%%time\n",
    "# Apply function nearest_node to find nearest node to each GPS coordinates for supermarkets\n",
    "\n",
    "supermarkets_2_1['supermarket_nodes1'] = supermarkets_2_1.apply(nearest_node, axis=1) "
   ]
  },
  {
   "cell_type": "code",
   "execution_count": null,
   "metadata": {},
   "outputs": [],
   "source": [
    "supermarkets_2_1.groupby(\"Venue_Category\").count()"
   ]
  },
  {
   "cell_type": "code",
   "execution_count": null,
   "metadata": {},
   "outputs": [],
   "source": [
    "supermarkets_2_1.to_csv(\"supermarkets1.csv\")"
   ]
  },
  {
   "cell_type": "markdown",
   "metadata": {},
   "source": [
    "### Look for missing information for each room in supermarket dataset:"
   ]
  },
  {
   "cell_type": "code",
   "execution_count": null,
   "metadata": {},
   "outputs": [],
   "source": [
    "supermarkets = pd.read_csv(\"supermarkets1.csv\")"
   ]
  },
  {
   "cell_type": "code",
   "execution_count": null,
   "metadata": {},
   "outputs": [],
   "source": [
    "supermarkets = supermarkets.drop_duplicates()"
   ]
  },
  {
   "cell_type": "code",
   "execution_count": null,
   "metadata": {},
   "outputs": [],
   "source": [
    "# We dropp all the categories that, do not represent the grocery store or supermarket\n",
    "supermarkets = supermarkets.drop(supermarkets[(supermarkets.Venue_Category == \"Café\")|\n",
    "                                                (supermarkets.Venue_Category ==\"Clothing Store\")|\n",
    "                                                (supermarkets.Venue_Category == \"Italian Restaurant\")|\n",
    "                                                (supermarkets.Venue_Category == \"Health Food Store\")|\n",
    "                                                (supermarkets.Venue_Category == \"Gourmet Shop\")].index)"
   ]
  },
  {
   "cell_type": "code",
   "execution_count": null,
   "metadata": {},
   "outputs": [],
   "source": [
    "lis = []\n",
    "for x in list(airbnb.id):\n",
    "    if x not in list(supermarkets.Id):\n",
    "        lis.append(x)\n",
    "\n",
    "print(len(lis))\n",
    "\n",
    "supermarkets_need = pd.DataFrame()\n",
    "for x in lis:\n",
    "    y = pd.DataFrame(airbnb.loc[airbnb.id == x])\n",
    "    supermarkets_need = supermarkets_need.append(y)"
   ]
  },
  {
   "cell_type": "code",
   "execution_count": null,
   "metadata": {},
   "outputs": [],
   "source": [
    "# Find supermarket in 1000 for listings, that does not have supermarket in 500m\n",
    "# We will increase the radius to 1000m\n",
    "# And increase the limit to 10\n",
    "\n",
    "LIMIT = 10\n",
    "airbnb1 = supermarkets_need\n",
    "supermarket1 = pd.DataFrame()\n",
    "supermarket = getNearbyVenues(names=airbnb1['id'],\n",
    "                                   latitudes=airbnb1['latitude'],\n",
    "                                   longitudes=airbnb1['longitude'],\n",
    "                                   radius = 1000,\n",
    "                                   categoryId = \"4bf58dd8d48988d118951735,52f2ab2ebcbc57f1066b8b46\" # grocery store, supermarket \n",
    "                                  )\n",
    "supermarket1 = supermarket1.append(supermarket)\n"
   ]
  },
  {
   "cell_type": "code",
   "execution_count": null,
   "metadata": {},
   "outputs": [],
   "source": [
    "# Apply function nearest_node to find nearest node to each GPS coordinates for the rest of supermarkets\n",
    "\n",
    "supermarket1['supermarket_nodes1'] = supermarket1.apply(nearest_node, axis=1) "
   ]
  },
  {
   "cell_type": "code",
   "execution_count": null,
   "metadata": {},
   "outputs": [],
   "source": [
    "# Add new supermarkets (range 1000m) into the dataset\n",
    "supermarkets = supermarkets.append(supermarket1)"
   ]
  },
  {
   "cell_type": "code",
   "execution_count": null,
   "metadata": {},
   "outputs": [],
   "source": [
    "supermarkets.groupby(\"Venue_Category\").count()"
   ]
  },
  {
   "cell_type": "code",
   "execution_count": null,
   "metadata": {
    "scrolled": true
   },
   "outputs": [],
   "source": [
    "# Again, we dropp all the categories that, do not represent the grocery store or supermarket\n",
    "supermarkets = supermarkets.drop(supermarkets[(supermarkets.Venue_Category == \"Café\")|\n",
    "                                              (supermarkets.Venue_Category ==\"Clothing Store\")].index)"
   ]
  },
  {
   "cell_type": "code",
   "execution_count": null,
   "metadata": {},
   "outputs": [],
   "source": [
    "supermarkets = supermarkets.drop(\"Unnamed: 0\", axis = 1)"
   ]
  },
  {
   "cell_type": "code",
   "execution_count": null,
   "metadata": {},
   "outputs": [],
   "source": [
    "# Map Airbnb nodes from original dataset\n",
    "d_airbnb_nodes = {}\n",
    "for i, node in zip(airbnb.id, airbnb.air_nodes_true):\n",
    "    d_airbnb_nodes[i] = node\n",
    "\n",
    "supermarkets[\"airbnb_node\"] = supermarkets[\"Id\"] # Initiate column where we will map airbnb node\n",
    "\n",
    "supermarkets.airbnb_node = supermarkets.airbnb_node.map(d_airbnb_nodes) # Map airbnb nodes"
   ]
  },
  {
   "cell_type": "code",
   "execution_count": null,
   "metadata": {},
   "outputs": [],
   "source": [
    "# Compute walking distance to supermarket\n",
    "def distance(row):\n",
    "    return nx.shortest_path_length(G, source = row.airbnb_node, target = row.supermarket_nodes1, weight='length')\n",
    "\n",
    "supermarkets['distance_to_supermarket'] = supermarkets.apply(distance, axis=1)"
   ]
  },
  {
   "cell_type": "code",
   "execution_count": null,
   "metadata": {},
   "outputs": [],
   "source": [
    "# Sort to get the shortest walking distance for each listing\n",
    "supermarkets_final = supermarkets.sort_values(by = [\"Id\", \"distance_to_supermarket\"]).drop_duplicates(subset = ['airbnb_node', \"Id\"])"
   ]
  },
  {
   "cell_type": "code",
   "execution_count": null,
   "metadata": {},
   "outputs": [],
   "source": [
    "# Rename column, so we can merge it with original dataset\n",
    "supermarkets_final = supermarkets_final.rename(columns={'Id': 'id'})"
   ]
  },
  {
   "cell_type": "code",
   "execution_count": null,
   "metadata": {},
   "outputs": [],
   "source": [
    "# Check if all listings has supermarket near, if not, value 1000 will be assign as the maximum value of distance (meaning 1000 and more)\n",
    "lis = []\n",
    "for x in list(airbnb.id):\n",
    "    if x not in list(supermarkets_final.id):\n",
    "        lis.append(x)\n",
    "\n",
    "print(len(lis))\n",
    "\n",
    "airbnb_no_sup = pd.DataFrame()\n",
    "for x in lis:\n",
    "    y = pd.DataFrame(airbnb.loc[airbnb.id == x])\n",
    "    airbnb_no_sup = airbnb_no_sup.append(y)"
   ]
  },
  {
   "cell_type": "code",
   "execution_count": null,
   "metadata": {},
   "outputs": [],
   "source": [
    "airbnb = pd.merge(airbnb, supermarkets_final, on = \"id\", how = \"outer\")"
   ]
  },
  {
   "cell_type": "code",
   "execution_count": null,
   "metadata": {},
   "outputs": [],
   "source": [
    "airbnb[\"distance_to_supermarket\"].isna().sum()"
   ]
  },
  {
   "cell_type": "code",
   "execution_count": null,
   "metadata": {},
   "outputs": [],
   "source": [
    "# Fill nan with 1000, meaning these listings has supermarket far away\n",
    "airbnb['distance_to_supermarket'] = airbnb['distance_to_supermarket'].fillna(1000)"
   ]
  },
  {
   "cell_type": "code",
   "execution_count": null,
   "metadata": {},
   "outputs": [],
   "source": [
    "airbnb.loc[airbnb['distance_to_supermarket'] >= 1000, \"distance_to_supermarket\"] = 1000"
   ]
  },
  {
   "cell_type": "code",
   "execution_count": null,
   "metadata": {},
   "outputs": [],
   "source": [
    "airbnb = airbnb.rename(columns={'distance': 'geometry_distance_to_supermarket'})\n",
    "airbnb['geometry_distance_to_supermarket'] = airbnb['geometry_distance_to_supermarket'].fillna(1000)"
   ]
  },
  {
   "cell_type": "code",
   "execution_count": null,
   "metadata": {},
   "outputs": [],
   "source": [
    "airbnb.loc[airbnb['geometry_distance_to_supermarket'] >= 1000, \"geometry_distance_to_supermarket\"] = 1000"
   ]
  },
  {
   "cell_type": "code",
   "execution_count": null,
   "metadata": {
    "scrolled": true
   },
   "outputs": [],
   "source": [
    "# Drop unnecessary columns\n",
    "to_drop = [\"Room_Latitude\",\"Room_Longitude\", \"Venue\", \"Venue_Latitude\", \"Venue_Longitude\", \"Venue_Category\", \"airbnb_node_y\",\n",
    "          \"supermarket_nodes1\", \"restaurants_nodes1\"]"
   ]
  },
  {
   "cell_type": "code",
   "execution_count": null,
   "metadata": {},
   "outputs": [],
   "source": [
    "airbnb = airbnb.drop(to_drop, axis = 1)"
   ]
  },
  {
   "cell_type": "code",
   "execution_count": null,
   "metadata": {},
   "outputs": [],
   "source": [
    "airbnb = airbnb.rename(columns={'airbnb_node_x': 'airbnb_node'})"
   ]
  },
  {
   "cell_type": "markdown",
   "metadata": {},
   "source": [
    "# Parks"
   ]
  },
  {
   "cell_type": "code",
   "execution_count": null,
   "metadata": {},
   "outputs": [],
   "source": [
    "parks_2_1 = pd.DataFrame()"
   ]
  },
  {
   "cell_type": "code",
   "execution_count": null,
   "metadata": {},
   "outputs": [],
   "source": [
    "# Define the range for smoother and faster retrieving of data\n",
    "# Run this code several times to get all the data\n",
    "# For park, we set range 1000m \n",
    "LIMIT = 3\n",
    "# airbnb1 = airbnb[a:b]\n",
    "i = 0\n",
    "park1 = pd.DataFrame()\n",
    "for k in range(10,len(airbnb1),10):\n",
    "    dataset = pd.DataFrame(airbnb1[i:k])\n",
    "    parks = getNearbyVenues(names=dataset['id'],\n",
    "                                       latitudes=dataset['latitude'],\n",
    "                                       longitudes=dataset['longitude'],\n",
    "                                       radius = 1000,\n",
    "                                       categoryId = \"4bf58dd8d48988d163941735\" # Park\n",
    "                                      )\n",
    "    park1 = park1.append(parks)\n",
    "    i = i+10   \n",
    "    \n",
    "parks_2_1 = parks_2_1.append(park1)"
   ]
  },
  {
   "cell_type": "code",
   "execution_count": null,
   "metadata": {},
   "outputs": [],
   "source": [
    "only_parks = parks_2_1[parks_2_1.Venue_Category == \"Park\"]"
   ]
  },
  {
   "cell_type": "code",
   "execution_count": null,
   "metadata": {},
   "outputs": [],
   "source": [
    "lis = []\n",
    "for x in list(airbnb.id):\n",
    "    if x not in list(only_parks.Id):\n",
    "        lis.append(x)\n",
    "\n",
    "print(len(lis))\n",
    "\n",
    "parks_need = pd.DataFrame()\n",
    "for x in lis:\n",
    "    y = pd.DataFrame(airbnb.loc[airbnb.id == x])\n",
    "    parks_need = parks_need.append(y)"
   ]
  },
  {
   "cell_type": "code",
   "execution_count": null,
   "metadata": {},
   "outputs": [],
   "source": [
    "# The rest\n",
    "\n",
    "LIMIT = 30\n",
    "airbnb1 = parks_need\n",
    "i = 0\n",
    "park1 = pd.DataFrame()\n",
    "dataset = airbnb1\n",
    "parks = getNearbyVenues(names=dataset['id'],\n",
    "                                   latitudes=dataset['latitude'],\n",
    "                                   longitudes=dataset['longitude'],\n",
    "                                   radius = 1000,\n",
    "                                   categoryId = \"4bf58dd8d48988d163941735\" # Park\n",
    "                                  )\n",
    "park1 = park1.append(parks) "
   ]
  },
  {
   "cell_type": "code",
   "execution_count": null,
   "metadata": {},
   "outputs": [],
   "source": [
    "only_parks_rest = park1[park1.Venue_Category == \"Park\"]"
   ]
  },
  {
   "cell_type": "code",
   "execution_count": null,
   "metadata": {},
   "outputs": [],
   "source": [
    "parks_all = only_parks.append(only_parks_rest)"
   ]
  },
  {
   "cell_type": "code",
   "execution_count": null,
   "metadata": {},
   "outputs": [],
   "source": [
    "lis = []\n",
    "for x in list(airbnb.id):\n",
    "    if x not in list(parks_all.Id):\n",
    "        lis.append(x)\n",
    "\n",
    "print(len(lis))\n",
    "\n",
    "parks_need_rest = pd.DataFrame()\n",
    "for x in lis:\n",
    "    y = pd.DataFrame(airbnb.loc[airbnb.id == x])\n",
    "    parks_need_rest = parks_need_rest.append(y) # 200 listings does not have park within 1000"
   ]
  },
  {
   "cell_type": "markdown",
   "metadata": {},
   "source": [
    "# Walking distance to nearest park"
   ]
  },
  {
   "cell_type": "code",
   "execution_count": null,
   "metadata": {},
   "outputs": [],
   "source": [
    "%%time\n",
    "# Apply function nearest_node to find nearest node to each GPS coordinates of parks\n",
    "\n",
    "parks_all['parks_node1'] = parks_all.apply(nearest_node, axis=1) "
   ]
  },
  {
   "cell_type": "code",
   "execution_count": null,
   "metadata": {},
   "outputs": [],
   "source": [
    "# Map Airbnb nodes from original dataset\n",
    "d_airbnb_nodes = {}\n",
    "for i, node in zip(airbnb.id, airbnb.air_nodes_true):\n",
    "    d_airbnb_nodes[i] = node\n",
    "\n",
    "parks_all[\"airbnb_node\"] = parks_all[\"Id\"] # Initiate column where we will map airbnb node\n",
    "\n",
    "parks_all.airbnb_node = parks_all.airbnb_node.map(d_airbnb_nodes) # Map airbnb nodes"
   ]
  },
  {
   "cell_type": "code",
   "execution_count": null,
   "metadata": {},
   "outputs": [],
   "source": [
    "# Compute walking distance to park\n",
    "def distance(row):\n",
    "    return nx.shortest_path_length(G, source=row.airbnb_node, target=row.parks_node1, weight='length')\n",
    "\n",
    "parks_all['distance_to_park'] = parks_all.apply(distance, axis=1)"
   ]
  },
  {
   "cell_type": "code",
   "execution_count": null,
   "metadata": {},
   "outputs": [],
   "source": [
    "# Sort to get the shortest walking distance for each listing\n",
    "parks_all = parks_all.sort_values(by = [\"Id\", \"distance_to_park\"]).drop_duplicates(subset = ['airbnb_node', \"Id\"])"
   ]
  },
  {
   "cell_type": "code",
   "execution_count": null,
   "metadata": {},
   "outputs": [],
   "source": [
    "# Rename column, so we can merge it with original dataset\n",
    "parks_all = parks_all.rename(columns={'Id': 'id'})"
   ]
  },
  {
   "cell_type": "code",
   "execution_count": null,
   "metadata": {},
   "outputs": [],
   "source": [
    "# Merge\n",
    "airbnb = pd.merge(airbnb, parks_all, on = \"id\", how = \"outer\")"
   ]
  },
  {
   "cell_type": "code",
   "execution_count": null,
   "metadata": {},
   "outputs": [],
   "source": [
    "# Fill nan with 1000, meaning these listings has supermarket far away\n",
    "airbnb['distance_to_park'] = airbnb['distance_to_park'].fillna(1000)"
   ]
  },
  {
   "cell_type": "code",
   "execution_count": null,
   "metadata": {},
   "outputs": [],
   "source": [
    "# Some of the distances is higher than 1000 (walking distance)\n",
    "# These values will be considered as 1000 (e.g.)"
   ]
  },
  {
   "cell_type": "code",
   "execution_count": null,
   "metadata": {},
   "outputs": [],
   "source": [
    "airbnb.loc[airbnb['distance_to_park'] >= 1000, \"distance_to_park\"] = 1000"
   ]
  },
  {
   "cell_type": "code",
   "execution_count": null,
   "metadata": {},
   "outputs": [],
   "source": [
    "airbnb = airbnb.rename(columns={'distance': 'geometry_distance_to_park'})\n",
    "airbnb['geometry_distance_to_park'] = airbnb['geometry_distance_to_park'].fillna(1000)"
   ]
  },
  {
   "cell_type": "code",
   "execution_count": null,
   "metadata": {},
   "outputs": [],
   "source": [
    "# Drop unnecessary columns\n",
    "to_drop = [\"Unnamed: 0\", \"Room_Latitude\",\"Room_Longitude\", \"Venue\", \"Venue_Latitude\", \"Venue_Longitude\", \"Venue_Category\",\n",
    "          \"parks_node1\", \"airbnb_node\"]"
   ]
  },
  {
   "cell_type": "code",
   "execution_count": null,
   "metadata": {},
   "outputs": [],
   "source": [
    "airbnb = airbnb.drop(to_drop, axis = 1)"
   ]
  },
  {
   "cell_type": "code",
   "execution_count": null,
   "metadata": {},
   "outputs": [],
   "source": [
    "airbnb.to_csv(\"airbnb4.csv\")"
   ]
  }
 ],
 "metadata": {
  "kernelspec": {
   "display_name": "Python 3",
   "language": "python",
   "name": "python3"
  },
  "language_info": {
   "codemirror_mode": {
    "name": "ipython",
    "version": 3
   },
   "file_extension": ".py",
   "mimetype": "text/x-python",
   "name": "python",
   "nbconvert_exporter": "python",
   "pygments_lexer": "ipython3",
   "version": "3.7.7"
  }
 },
 "nbformat": 4,
 "nbformat_minor": 4
}
